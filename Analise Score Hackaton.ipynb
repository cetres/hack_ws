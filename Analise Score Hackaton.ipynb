{
 "cells": [
  {
   "cell_type": "code",
   "execution_count": 32,
   "metadata": {},
   "outputs": [],
   "source": [
    "import os\n",
    "import datetime\n",
    "import yaml\n",
    "import pandas as pd\n",
    "import numpy as np\n",
    "import random as rnd\n",
    "\n",
    "import seaborn as sns\n",
    "import matplotlib.pyplot as plt\n",
    "%matplotlib inline\n",
    "\n",
    "from sklearn.linear_model import LogisticRegression\n",
    "from sklearn.svm import SVC, LinearSVC\n",
    "from sklearn.ensemble import RandomForestClassifier\n",
    "from sklearn.neighbors import KNeighborsClassifier\n",
    "from sklearn.naive_bayes import GaussianNB\n",
    "from sklearn.linear_model import Perceptron\n",
    "from sklearn.linear_model import SGDClassifier\n",
    "from sklearn.tree import DecisionTreeClassifier"
   ]
  },
  {
   "cell_type": "code",
   "execution_count": 151,
   "metadata": {},
   "outputs": [
    {
     "data": {
      "text/html": [
       "<div>\n",
       "<style>\n",
       "    .dataframe thead tr:only-child th {\n",
       "        text-align: right;\n",
       "    }\n",
       "\n",
       "    .dataframe thead th {\n",
       "        text-align: left;\n",
       "    }\n",
       "\n",
       "    .dataframe tbody tr th {\n",
       "        vertical-align: top;\n",
       "    }\n",
       "</style>\n",
       "<table border=\"1\" class=\"dataframe\">\n",
       "  <thead>\n",
       "    <tr style=\"text-align: right;\">\n",
       "      <th></th>\n",
       "      <th>cpf</th>\n",
       "      <th>dt_nascimento</th>\n",
       "      <th>email</th>\n",
       "      <th>email_validado</th>\n",
       "      <th>fraude</th>\n",
       "      <th>nome</th>\n",
       "      <th>tel</th>\n",
       "      <th>tel_correlacao_crivo</th>\n",
       "      <th>tel_validado</th>\n",
       "      <th>idade</th>\n",
       "      <th>idade_faixa</th>\n",
       "    </tr>\n",
       "  </thead>\n",
       "  <tbody>\n",
       "    <tr>\n",
       "      <th>0</th>\n",
       "      <td>10014264034</td>\n",
       "      <td>23/06/2017</td>\n",
       "      <td>2</td>\n",
       "      <td>1.0</td>\n",
       "      <td>0.0</td>\n",
       "      <td>Yasmin Isabella</td>\n",
       "      <td>71667735</td>\n",
       "      <td>0.0</td>\n",
       "      <td>0.0</td>\n",
       "      <td>0</td>\n",
       "      <td>0.0</td>\n",
       "    </tr>\n",
       "    <tr>\n",
       "      <th>1</th>\n",
       "      <td>10034277212</td>\n",
       "      <td>22/01/1943</td>\n",
       "      <td>1</td>\n",
       "      <td>0.0</td>\n",
       "      <td>0.0</td>\n",
       "      <td>Lara Vitor</td>\n",
       "      <td>64358159</td>\n",
       "      <td>0.0</td>\n",
       "      <td>0.0</td>\n",
       "      <td>74</td>\n",
       "      <td>4.0</td>\n",
       "    </tr>\n",
       "    <tr>\n",
       "      <th>2</th>\n",
       "      <td>10174195208</td>\n",
       "      <td>08/03/2012</td>\n",
       "      <td>1</td>\n",
       "      <td>0.0</td>\n",
       "      <td>0.0</td>\n",
       "      <td>Luiza Alice</td>\n",
       "      <td>76280134</td>\n",
       "      <td>0.0</td>\n",
       "      <td>0.0</td>\n",
       "      <td>5</td>\n",
       "      <td>0.0</td>\n",
       "    </tr>\n",
       "    <tr>\n",
       "      <th>3</th>\n",
       "      <td>10227468501</td>\n",
       "      <td>28/03/1966</td>\n",
       "      <td>0</td>\n",
       "      <td>0.0</td>\n",
       "      <td>0.0</td>\n",
       "      <td>Gabriela Isabella</td>\n",
       "      <td>81173335</td>\n",
       "      <td>1.0</td>\n",
       "      <td>1.0</td>\n",
       "      <td>51</td>\n",
       "      <td>3.0</td>\n",
       "    </tr>\n",
       "    <tr>\n",
       "      <th>4</th>\n",
       "      <td>10433319763</td>\n",
       "      <td>02/02/1955</td>\n",
       "      <td>2</td>\n",
       "      <td>0.0</td>\n",
       "      <td>0.0</td>\n",
       "      <td>Rafaela Felipe</td>\n",
       "      <td>67692520</td>\n",
       "      <td>1.0</td>\n",
       "      <td>1.0</td>\n",
       "      <td>62</td>\n",
       "      <td>3.0</td>\n",
       "    </tr>\n",
       "  </tbody>\n",
       "</table>\n",
       "</div>"
      ],
      "text/plain": [
       "           cpf dt_nascimento  email  email_validado  fraude  \\\n",
       "0  10014264034    23/06/2017      2             1.0     0.0   \n",
       "1  10034277212    22/01/1943      1             0.0     0.0   \n",
       "2  10174195208    08/03/2012      1             0.0     0.0   \n",
       "3  10227468501    28/03/1966      0             0.0     0.0   \n",
       "4  10433319763    02/02/1955      2             0.0     0.0   \n",
       "\n",
       "                nome       tel  tel_correlacao_crivo  tel_validado  idade  \\\n",
       "0    Yasmin Isabella  71667735                   0.0           0.0      0   \n",
       "1         Lara Vitor  64358159                   0.0           0.0     74   \n",
       "2        Luiza Alice  76280134                   0.0           0.0      5   \n",
       "3  Gabriela Isabella  81173335                   1.0           1.0     51   \n",
       "4     Rafaela Felipe  67692520                   1.0           1.0     62   \n",
       "\n",
       "   idade_faixa  \n",
       "0          0.0  \n",
       "1          4.0  \n",
       "2          0.0  \n",
       "3          3.0  \n",
       "4          3.0  "
      ]
     },
     "execution_count": 151,
     "metadata": {},
     "output_type": "execute_result"
    }
   ],
   "source": [
    "def idade(data):\n",
    "    return datetime.date.today().year - datetime.datetime.strptime(data, \"%d/%m/%Y\").year\n",
    "\n",
    "df = pd.DataFrame([])\n",
    "for cpf in os.listdir(\"dados\"):\n",
    "    with open(os.path.join(\"dados\", cpf), \"r\") as f:\n",
    "        dados = yaml.load(f)\n",
    "        dados.update({\"cpf\": cpf})\n",
    "        df = df.append(dados, ignore_index=True)\n",
    "df.loc[(df.tel_correlacao_crivo.isnull()), 'tel_correlacao_crivo'] = 0\n",
    "df['idade'] = df['dt_nascimento'].map(idade)\n",
    "df.loc[ df['idade'] <= 16, 'idade_faixa'] = 0\n",
    "df.loc[(df['idade'] > 16) & (df['idade'] <= 32), 'idade_faixa'] = 1\n",
    "df.loc[(df['idade'] > 32) & (df['idade'] <= 48), 'idade_faixa'] = 2\n",
    "df.loc[(df['idade'] > 48) & (df['idade'] <= 64), 'idade_faixa'] = 3\n",
    "df.loc[ df['idade'] > 64, 'idade_faixa'] = 4\n",
    "df['email'] = df['email'].str[-9:].map( {'gmail.com': 0, 'yahoo.com': 1, 'tmail.com': 2} ).astype(int)\n",
    "df.head()"
   ]
  },
  {
   "cell_type": "code",
   "execution_count": 57,
   "metadata": {
    "scrolled": true
   },
   "outputs": [],
   "source": [
    "\n",
    "#primeiros = int(0.25 * len(df))\n",
    "#train_df = df.head(primeiros)\n",
    "#test_df = df.tail(len(df) - primeiros)\n",
    "#combine = [train_df, test_df]"
   ]
  },
  {
   "cell_type": "code",
   "execution_count": 152,
   "metadata": {},
   "outputs": [
    {
     "data": {
      "text/html": [
       "<div>\n",
       "<style>\n",
       "    .dataframe thead tr:only-child th {\n",
       "        text-align: right;\n",
       "    }\n",
       "\n",
       "    .dataframe thead th {\n",
       "        text-align: left;\n",
       "    }\n",
       "\n",
       "    .dataframe tbody tr th {\n",
       "        vertical-align: top;\n",
       "    }\n",
       "</style>\n",
       "<table border=\"1\" class=\"dataframe\">\n",
       "  <thead>\n",
       "    <tr style=\"text-align: right;\">\n",
       "      <th></th>\n",
       "      <th>email</th>\n",
       "      <th>email_validado</th>\n",
       "      <th>fraude</th>\n",
       "      <th>tel_correlacao_crivo</th>\n",
       "      <th>tel_validado</th>\n",
       "      <th>idade</th>\n",
       "      <th>idade_faixa</th>\n",
       "    </tr>\n",
       "  </thead>\n",
       "  <tbody>\n",
       "    <tr>\n",
       "      <th>count</th>\n",
       "      <td>1000.000000</td>\n",
       "      <td>1000.000000</td>\n",
       "      <td>1000.00000</td>\n",
       "      <td>1000.0000</td>\n",
       "      <td>1000.000000</td>\n",
       "      <td>1000.000000</td>\n",
       "      <td>1000.000000</td>\n",
       "    </tr>\n",
       "    <tr>\n",
       "      <th>mean</th>\n",
       "      <td>0.961000</td>\n",
       "      <td>0.253000</td>\n",
       "      <td>0.06100</td>\n",
       "      <td>0.1020</td>\n",
       "      <td>0.420000</td>\n",
       "      <td>40.831000</td>\n",
       "      <td>2.036000</td>\n",
       "    </tr>\n",
       "    <tr>\n",
       "      <th>std</th>\n",
       "      <td>0.812489</td>\n",
       "      <td>0.434948</td>\n",
       "      <td>0.23945</td>\n",
       "      <td>0.3028</td>\n",
       "      <td>0.493805</td>\n",
       "      <td>22.484127</td>\n",
       "      <td>1.377898</td>\n",
       "    </tr>\n",
       "    <tr>\n",
       "      <th>min</th>\n",
       "      <td>0.000000</td>\n",
       "      <td>0.000000</td>\n",
       "      <td>0.00000</td>\n",
       "      <td>0.0000</td>\n",
       "      <td>0.000000</td>\n",
       "      <td>0.000000</td>\n",
       "      <td>0.000000</td>\n",
       "    </tr>\n",
       "    <tr>\n",
       "      <th>25%</th>\n",
       "      <td>0.000000</td>\n",
       "      <td>0.000000</td>\n",
       "      <td>0.00000</td>\n",
       "      <td>0.0000</td>\n",
       "      <td>0.000000</td>\n",
       "      <td>22.000000</td>\n",
       "      <td>1.000000</td>\n",
       "    </tr>\n",
       "    <tr>\n",
       "      <th>50%</th>\n",
       "      <td>1.000000</td>\n",
       "      <td>0.000000</td>\n",
       "      <td>0.00000</td>\n",
       "      <td>0.0000</td>\n",
       "      <td>0.000000</td>\n",
       "      <td>42.000000</td>\n",
       "      <td>2.000000</td>\n",
       "    </tr>\n",
       "    <tr>\n",
       "      <th>75%</th>\n",
       "      <td>2.000000</td>\n",
       "      <td>1.000000</td>\n",
       "      <td>0.00000</td>\n",
       "      <td>0.0000</td>\n",
       "      <td>1.000000</td>\n",
       "      <td>60.000000</td>\n",
       "      <td>3.000000</td>\n",
       "    </tr>\n",
       "    <tr>\n",
       "      <th>max</th>\n",
       "      <td>2.000000</td>\n",
       "      <td>1.000000</td>\n",
       "      <td>1.00000</td>\n",
       "      <td>1.0000</td>\n",
       "      <td>1.000000</td>\n",
       "      <td>80.000000</td>\n",
       "      <td>4.000000</td>\n",
       "    </tr>\n",
       "  </tbody>\n",
       "</table>\n",
       "</div>"
      ],
      "text/plain": [
       "             email  email_validado      fraude  tel_correlacao_crivo  \\\n",
       "count  1000.000000     1000.000000  1000.00000             1000.0000   \n",
       "mean      0.961000        0.253000     0.06100                0.1020   \n",
       "std       0.812489        0.434948     0.23945                0.3028   \n",
       "min       0.000000        0.000000     0.00000                0.0000   \n",
       "25%       0.000000        0.000000     0.00000                0.0000   \n",
       "50%       1.000000        0.000000     0.00000                0.0000   \n",
       "75%       2.000000        1.000000     0.00000                0.0000   \n",
       "max       2.000000        1.000000     1.00000                1.0000   \n",
       "\n",
       "       tel_validado        idade  idade_faixa  \n",
       "count   1000.000000  1000.000000  1000.000000  \n",
       "mean       0.420000    40.831000     2.036000  \n",
       "std        0.493805    22.484127     1.377898  \n",
       "min        0.000000     0.000000     0.000000  \n",
       "25%        0.000000    22.000000     1.000000  \n",
       "50%        0.000000    42.000000     2.000000  \n",
       "75%        1.000000    60.000000     3.000000  \n",
       "max        1.000000    80.000000     4.000000  "
      ]
     },
     "execution_count": 152,
     "metadata": {},
     "output_type": "execute_result"
    }
   ],
   "source": [
    "df.describe()"
   ]
  },
  {
   "cell_type": "code",
   "execution_count": 153,
   "metadata": {},
   "outputs": [
    {
     "data": {
      "text/plain": [
       "<seaborn.axisgrid.FacetGrid at 0x11d0ff550>"
      ]
     },
     "execution_count": 153,
     "metadata": {},
     "output_type": "execute_result"
    },
    {
     "data": {
      "image/png": "[encoded data removed]",
      "text/plain": [
       "<matplotlib.figure.Figure at 0x11d0ff588>"
      ]
     },
     "metadata": {},
     "output_type": "display_data"
    }
   ],
   "source": [
    "grid = sns.FacetGrid(df, row='tel_correlacao_crivo', col='idade_faixa', size=2.2, aspect=1.6)\n",
    "grid.map(plt.hist, 'idade_faixa', alpha=.5, bins=2)\n",
    "grid.add_legend()"
   ]
  },
  {
   "cell_type": "code",
   "execution_count": 156,
   "metadata": {},
   "outputs": [],
   "source": [
    "df_clean = df.drop(['nome', 'dt_nascimento'], axis=1).copy()\n",
    "\n",
    "primeiros = int(0.25 * len(df_clean))\n",
    "train_df = df_clean.head(primeiros).copy()\n",
    "test_df = df_clean.tail(len(df_clean) - primeiros).copy()\n",
    "\n",
    "X_train = train_df.drop(\"fraude\", axis=1)\n",
    "Y_train = train_df[\"fraude\"]\n",
    "\n",
    "X_test  = test_df.drop(\"fraude\", axis=1)"
   ]
  },
  {
   "cell_type": "code",
   "execution_count": 157,
   "metadata": {},
   "outputs": [
    {
     "data": {
      "text/plain": [
       "100.0"
      ]
     },
     "execution_count": 157,
     "metadata": {},
     "output_type": "execute_result"
    }
   ],
   "source": [
    "random_forest = RandomForestClassifier(n_estimators=100)\n",
    "random_forest.fit(X_train, Y_train)\n",
    "Y_pred = random_forest.predict(X_test)\n",
    "random_forest.score(X_train, Y_train)\n",
    "acc_random_forest = round(random_forest.score(X_train, Y_train) * 100, 2)\n",
    "acc_random_forest"
   ]
  },
  {
   "cell_type": "code",
   "execution_count": 158,
   "metadata": {},
   "outputs": [
    {
     "data": {
      "text/plain": [
       "((250, 8), (250,), (750, 8))"
      ]
     },
     "execution_count": 158,
     "metadata": {},
     "output_type": "execute_result"
    }
   ],
   "source": [
    "X_train.shape, Y_train.shape, X_test.shape"
   ]
  },
  {
   "cell_type": "code",
   "execution_count": 159,
   "metadata": {},
   "outputs": [
    {
     "data": {
      "text/plain": [
       "66     1.0\n",
       "83     1.0\n",
       "92     1.0\n",
       "111    1.0\n",
       "130    1.0\n",
       "142    1.0\n",
       "150    1.0\n",
       "203    1.0\n",
       "233    1.0\n",
       "244    1.0\n",
       "Name: fraude, dtype: float64"
      ]
     },
     "execution_count": 159,
     "metadata": {},
     "output_type": "execute_result"
    }
   ],
   "source": [
    "Y_train[Y_train==1]"
   ]
  },
  {
   "cell_type": "code",
   "execution_count": 165,
   "metadata": {},
   "outputs": [],
   "source": [
    "X_test['fraude'] = Y_pred"
   ]
  },
  {
   "cell_type": "code",
   "execution_count": 166,
   "metadata": {},
   "outputs": [
    {
     "data": {
      "text/html": [
       "<div>\n",
       "<style>\n",
       "    .dataframe thead tr:only-child th {\n",
       "        text-align: right;\n",
       "    }\n",
       "\n",
       "    .dataframe thead th {\n",
       "        text-align: left;\n",
       "    }\n",
       "\n",
       "    .dataframe tbody tr th {\n",
       "        vertical-align: top;\n",
       "    }\n",
       "</style>\n",
       "<table border=\"1\" class=\"dataframe\">\n",
       "  <thead>\n",
       "    <tr style=\"text-align: right;\">\n",
       "      <th></th>\n",
       "      <th>cpf</th>\n",
       "      <th>email</th>\n",
       "      <th>email_validado</th>\n",
       "      <th>tel</th>\n",
       "      <th>tel_correlacao_crivo</th>\n",
       "      <th>tel_validado</th>\n",
       "      <th>idade</th>\n",
       "      <th>idade_faixa</th>\n",
       "      <th>fraude</th>\n",
       "    </tr>\n",
       "  </thead>\n",
       "  <tbody>\n",
       "    <tr>\n",
       "      <th>310</th>\n",
       "      <td>37544275923</td>\n",
       "      <td>2</td>\n",
       "      <td>0.0</td>\n",
       "      <td>13928140</td>\n",
       "      <td>0.0</td>\n",
       "      <td>1.0</td>\n",
       "      <td>17</td>\n",
       "      <td>1.0</td>\n",
       "      <td>1.0</td>\n",
       "    </tr>\n",
       "    <tr>\n",
       "      <th>399</th>\n",
       "      <td>46030195598</td>\n",
       "      <td>2</td>\n",
       "      <td>0.0</td>\n",
       "      <td>16625094</td>\n",
       "      <td>0.0</td>\n",
       "      <td>1.0</td>\n",
       "      <td>31</td>\n",
       "      <td>1.0</td>\n",
       "      <td>1.0</td>\n",
       "    </tr>\n",
       "    <tr>\n",
       "      <th>503</th>\n",
       "      <td>55405134110</td>\n",
       "      <td>2</td>\n",
       "      <td>0.0</td>\n",
       "      <td>17878382</td>\n",
       "      <td>0.0</td>\n",
       "      <td>1.0</td>\n",
       "      <td>17</td>\n",
       "      <td>1.0</td>\n",
       "      <td>1.0</td>\n",
       "    </tr>\n",
       "  </tbody>\n",
       "</table>\n",
       "</div>"
      ],
      "text/plain": [
       "             cpf  email  email_validado       tel  tel_correlacao_crivo  \\\n",
       "310  37544275923      2             0.0  13928140                   0.0   \n",
       "399  46030195598      2             0.0  16625094                   0.0   \n",
       "503  55405134110      2             0.0  17878382                   0.0   \n",
       "\n",
       "     tel_validado  idade  idade_faixa  fraude  \n",
       "310           1.0     17          1.0     1.0  \n",
       "399           1.0     31          1.0     1.0  \n",
       "503           1.0     17          1.0     1.0  "
      ]
     },
     "execution_count": 166,
     "metadata": {},
     "output_type": "execute_result"
    }
   ],
   "source": [
    "# Relacao da base com potencial de fraude\n",
    "X_test[X_test['fraude']==1]"
   ]
  }
 ],
 "metadata": {
  "kernelspec": {
   "display_name": "Python 3",
   "language": "python",
   "name": "python3"
  },
  "language_info": {
   "codemirror_mode": {
    "name": "ipython",
    "version": 3
   },
   "file_extension": ".py",
   "mimetype": "text/x-python",
   "name": "python",
   "nbconvert_exporter": "python",
   "pygments_lexer": "ipython3",
   "version": "3.6.1"
  }
 },
 "nbformat": 4,
 "nbformat_minor": 2
}
